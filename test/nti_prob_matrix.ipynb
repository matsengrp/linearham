{
 "cells": [
  {
   "cell_type": "code",
   "execution_count": null,
   "metadata": {
    "collapsed": false
   },
   "outputs": [],
   "source": [
    "import numpy as np\n",
    "import yaml\n",
    "\n",
    "with open(\"../data/D_germline_ex.yaml\", 'r') as stream:\n",
    "    try:\n",
    "        y = yaml.load(stream)\n",
    "    except yaml.YAMLError as exc:\n",
    "        print(exc)\n",
    "\n",
    "# Build a dictionary of the YAML keyed by state name.\n",
    "state_d = {}\n",
    "for s in y['states']:\n",
    "    state_d[s['name']] = s\n",
    "\n",
    "bases = list('ACGT')\n",
    "insert_names = ['insert_left_'+x for x in bases]\n",
    "dummy_names = ['dummy_D_'+str(i) for i in range(5)]"
   ]
  },
  {
   "cell_type": "code",
   "execution_count": null,
   "metadata": {
    "collapsed": true
   },
   "outputs": [],
   "source": [
    "def stack_rows(array_list):\n",
    "    return np.concatenate([np.array([a]) for a in array_list])\n",
    "\n",
    "def extract_transitions(d, names):\n",
    "    def get_with_default(n):\n",
    "        if n in d:\n",
    "            return d[n]\n",
    "        else:\n",
    "            return 0.\n",
    "    v = np.array([get_with_default(n) for n in names])\n",
    "    return v"
   ]
  },
  {
   "cell_type": "markdown",
   "metadata": {},
   "source": [
    "#### NTI transition and emission matrices\n",
    "\n",
    "![](https://cloud.githubusercontent.com/assets/112708/20118401/1d070a30-a5b9-11e6-8f0f-272950064215.png)"
   ]
  },
  {
   "cell_type": "code",
   "execution_count": null,
   "metadata": {
    "collapsed": false
   },
   "outputs": [],
   "source": [
    "in_landing = extract_transitions(state_d['init']['transitions'], insert_names)\n",
    "\n",
    "T = stack_rows([\n",
    "        extract_transitions(state_d[n]['transitions'], insert_names) \n",
    "        for n in insert_names])\n",
    "\n",
    "# Note the transpose at the end here, which is because we are indexing\n",
    "# observed states on the rows and hidden states on the columns.\n",
    "E = stack_rows([\n",
    "        np.array([state_d[n]['emissions']['probs'][b] for b in bases]) \n",
    "        for n in insert_names]).T\n",
    "\n",
    "out_landing = stack_rows([\n",
    "        extract_transitions(state_d[i_n]['transitions'], dummy_names) \n",
    "        for i_n in insert_names])\n",
    "\n",
    "# These are the flexbounds for the NTI region. The left one is equal to the right \n",
    "# flexbounds of the previous gene. Because that describes the nucleotide positions \n",
    "# of uncertainty just after the end of the germline gene match, this describes the \n",
    "# first possible nucleotide positions of the NTI region, in this example 4 and 5.\n",
    "left_flexbounds = (4, 5)\n",
    "right_flexbounds = (6, 8)\n",
    "# Relpos for the dummy D gene.\n",
    "right_relpos = 5\n",
    "emission_indices = [0, 1, 0, 2, 3, 0, 1, 1, 1, 3, 2, 3, 3]\n",
    "used_emission_indices = emission_indices[left_flexbounds[0]:right_flexbounds[1]]\n",
    "\n",
    "for o in [in_landing, T, E, out_landing, used_emission_indices]:\n",
    "    print o"
   ]
  },
  {
   "cell_type": "markdown",
   "metadata": {},
   "source": [
    "![](https://cloud.githubusercontent.com/assets/112708/19703331/49f810a4-9ab8-11e6-8eaa-9b2766bc547e.png)"
   ]
  },
  {
   "cell_type": "code",
   "execution_count": null,
   "metadata": {
    "collapsed": false,
    "scrolled": true
   },
   "outputs": [],
   "source": [
    "# Following the image in the issue literally:\n",
    "all_A = []\n",
    "for t in range(len(used_emission_indices)):\n",
    "    y_t = used_emission_indices[t]\n",
    "    A = np.zeros((t+1, 4))\n",
    "    if t > 0:\n",
    "        A[:t, :] = all_A[t-1].dot(T) * E[y_t, :]\n",
    "    A[t, :] = in_landing * E[y_t, :]\n",
    "    all_A.append(A)"
   ]
  },
  {
   "cell_type": "markdown",
   "metadata": {},
   "source": [
    "However, we don't need all of the contents of the As.\n",
    "We only need to start at positions 3 and 4, which because of the setup of used_emission_indices are the first two entries\n",
    "(i.e. the left flex.)"
   ]
  },
  {
   "cell_type": "code",
   "execution_count": null,
   "metadata": {
    "collapsed": false
   },
   "outputs": [],
   "source": [
    "left_flex = left_flexbounds[1]-left_flexbounds[0]\n",
    "sub_A = [A[:(left_flex+1), :] for A in all_A]\n",
    "sub_A"
   ]
  },
  {
   "cell_type": "markdown",
   "metadata": {},
   "source": [
    "We want the matrix that has been run out to one position before the LHS of the right flex (but we subtract off `left_flexbounds[0]` because we're starting the computation at that position; see definition of `used_emission_indices`).\n",
    "We then right multiply by the column vector that corresponds to the entrypoint of the D gene. "
   ]
  },
  {
   "cell_type": "code",
   "execution_count": null,
   "metadata": {
    "collapsed": false
   },
   "outputs": [],
   "source": [
    "for i in range(0,right_flexbounds[1]-right_flexbounds[0]+1):\n",
    "    print sub_A[i+right_flexbounds[0]-left_flexbounds[0]-1].dot(out_landing[:,i+right_flexbounds[0]-right_relpos])"
   ]
  },
  {
   "cell_type": "code",
   "execution_count": null,
   "metadata": {
    "collapsed": true
   },
   "outputs": [],
   "source": []
  }
 ],
 "metadata": {
  "kernelspec": {
   "display_name": "Python [Root]",
   "language": "python",
   "name": "Python [Root]"
  },
  "language_info": {
   "codemirror_mode": {
    "name": "ipython",
    "version": 2
   },
   "file_extension": ".py",
   "mimetype": "text/x-python",
   "name": "python",
   "nbconvert_exporter": "python",
   "pygments_lexer": "ipython2",
   "version": "2.7.12"
  }
 },
 "nbformat": 4,
 "nbformat_minor": 0
}
